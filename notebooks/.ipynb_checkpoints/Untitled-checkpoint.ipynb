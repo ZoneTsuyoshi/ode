{
 "cells": [
  {
   "cell_type": "code",
   "execution_count": 1,
   "metadata": {},
   "outputs": [],
   "source": [
    "import numpy as np"
   ]
  },
  {
   "cell_type": "code",
   "execution_count": 27,
   "metadata": {},
   "outputs": [],
   "source": [
    "def nondelay_embedding(x, E=3, n=1, seed=1):\n",
    "    \"\"\"\n",
    "    Args:\n",
    "        x [n_timesteps, n_dim]: data\n",
    "        E {int}: embedding dimension\n",
    "        n {int}: number of embeddings for generating\n",
    "\n",
    "    Return:\n",
    "        [n, n_timesteps, E]\n",
    "    \"\"\"\n",
    "    np.random.seed(seed)\n",
    "    assert x.ndim==2\n",
    "    _, n_dim = x.shape\n",
    "\n",
    "    combinations = np.random.randint(n_dim, size=(n,E))\n",
    "    return x[:, combinations].swapaxes(0,1)"
   ]
  },
  {
   "cell_type": "code",
   "execution_count": 30,
   "metadata": {
    "scrolled": true
   },
   "outputs": [
    {
     "data": {
      "text/plain": [
       "array([[[  0,   5],\n",
       "        [  6,  11],\n",
       "        [ 12,  17],\n",
       "        [ 18,  23],\n",
       "        [ 24,  29],\n",
       "        [ 30,  35],\n",
       "        [ 36,  41],\n",
       "        [ 42,  47],\n",
       "        [ 48,  53],\n",
       "        [ 54,  59],\n",
       "        [ 60,  65],\n",
       "        [ 66,  71],\n",
       "        [ 72,  77],\n",
       "        [ 78,  83],\n",
       "        [ 84,  89],\n",
       "        [ 90,  95],\n",
       "        [ 96, 101],\n",
       "        [102, 107],\n",
       "        [108, 113],\n",
       "        [114, 119]]])"
      ]
     },
     "execution_count": 30,
     "metadata": {},
     "output_type": "execute_result"
    }
   ],
   "source": [
    "x = np.arange(120).reshape(20,6)\n",
    "nondelay_embedding(x, E=2, seed=2)"
   ]
  },
  {
   "cell_type": "code",
   "execution_count": 46,
   "metadata": {},
   "outputs": [],
   "source": [
    "def delay_embedding(x, E=None, max_delay=5, n=1, seed=1):\n",
    "    \"\"\"\n",
    "    Args:\n",
    "        x [n_timesteps]: data\n",
    "        E {int}: embedding dimension\n",
    "        max_delay {int}: maximum embedding dimension\n",
    "        n {int}: number of embeddings for generating\n",
    "\n",
    "    Return:\n",
    "        [n, n_timesteps - delay, E] or [n_timesteps - delay, E]\n",
    "    \"\"\"\n",
    "    np.random.seed(seed)\n",
    "    n_timesteps = len(x)\n",
    "\n",
    "    # only maximum number of delay is determined\n",
    "    if E is None:\n",
    "        # binary array for embedding\n",
    "        # if True, the correspoding delay interval is used.\n",
    "        results = np.array(n, dtype=object)\n",
    "        i = 0\n",
    "        # calculate for each reconstructed coordinates\n",
    "        while i<n:\n",
    "            binary = np.random.randint(2, size=(max_delay)).astype(bool)\n",
    "            if np.count_nonzero(binary)!=0:\n",
    "                delays = np.where(binary)[0]\n",
    "                maximum = delays.max() + 1 # because zero is necessary\n",
    "                result = np.zeros([n_timesteps - maximum, np.count_nonzero(binary) + 1])\n",
    "                result[:,0] = x[maximum:] # our embedding system is t-tau type\n",
    "                print(maximum)\n",
    "                print(delays)\n",
    "                for j in range(result.shape[1]-1):\n",
    "                    result[:,j+1] = x[maximum - delays[j] - 1:-delays[j] - 1]\n",
    "                results[i] = result\n",
    "                i += 1\n",
    "    else:\n",
    "        # embedding dimension is determined\n",
    "        assert E <= max_delay\n",
    "        results = np.array(n, dtype=object)\n",
    "        for i in range(n):\n",
    "            combinations = np.sort(np.random.choice(max_delay, E-1, False))\n",
    "            maximum = combinations.max() + 1\n",
    "            result = np.zeros([n_timesteps - maximum, E])\n",
    "            result[:,0] = x[maximum:]\n",
    "            for j in range(result.shape[1]-1):\n",
    "                result[:,j+1] = x[maximum - combinations[j]:-combinations[j]]\n",
    "            results[i] = result\n",
    "    if n==1:\n",
    "        return results[0]\n",
    "    else:\n",
    "        return results"
   ]
  },
  {
   "cell_type": "code",
   "execution_count": 47,
   "metadata": {},
   "outputs": [
    {
     "name": "stdout",
     "output_type": "stream",
     "text": [
      "5\n",
      "[0 1 4]\n"
     ]
    },
    {
     "ename": "ValueError",
     "evalue": "could not broadcast input array from shape (0) into shape (45)",
     "output_type": "error",
     "traceback": [
      "\u001b[0;31m---------------------------------------------------------------------------\u001b[0m",
      "\u001b[0;31mValueError\u001b[0m                                Traceback (most recent call last)",
      "\u001b[0;32m<ipython-input-47-574184248141>\u001b[0m in \u001b[0;36m<module>\u001b[0;34m\u001b[0m\n\u001b[1;32m      1\u001b[0m \u001b[0mx\u001b[0m \u001b[0;34m=\u001b[0m \u001b[0mnp\u001b[0m\u001b[0;34m.\u001b[0m\u001b[0marange\u001b[0m\u001b[0;34m(\u001b[0m\u001b[0;36m50\u001b[0m\u001b[0;34m)\u001b[0m\u001b[0;34m\u001b[0m\u001b[0;34m\u001b[0m\u001b[0m\n\u001b[0;32m----> 2\u001b[0;31m \u001b[0mdelay_embedding\u001b[0m\u001b[0;34m(\u001b[0m\u001b[0mx\u001b[0m\u001b[0;34m,\u001b[0m \u001b[0mmax_delay\u001b[0m\u001b[0;34m=\u001b[0m\u001b[0;36m5\u001b[0m\u001b[0;34m)\u001b[0m\u001b[0;34m\u001b[0m\u001b[0;34m\u001b[0m\u001b[0m\n\u001b[0m",
      "\u001b[0;32m<ipython-input-46-c9ce39135cd2>\u001b[0m in \u001b[0;36mdelay_embedding\u001b[0;34m(x, E, max_delay, n, seed)\u001b[0m\n\u001b[1;32m     30\u001b[0m                 \u001b[0mprint\u001b[0m\u001b[0;34m(\u001b[0m\u001b[0mdelays\u001b[0m\u001b[0;34m)\u001b[0m\u001b[0;34m\u001b[0m\u001b[0;34m\u001b[0m\u001b[0m\n\u001b[1;32m     31\u001b[0m                 \u001b[0;32mfor\u001b[0m \u001b[0mj\u001b[0m \u001b[0;32min\u001b[0m \u001b[0mrange\u001b[0m\u001b[0;34m(\u001b[0m\u001b[0mresult\u001b[0m\u001b[0;34m.\u001b[0m\u001b[0mshape\u001b[0m\u001b[0;34m[\u001b[0m\u001b[0;36m1\u001b[0m\u001b[0;34m]\u001b[0m\u001b[0;34m-\u001b[0m\u001b[0;36m1\u001b[0m\u001b[0;34m)\u001b[0m\u001b[0;34m:\u001b[0m\u001b[0;34m\u001b[0m\u001b[0;34m\u001b[0m\u001b[0m\n\u001b[0;32m---> 32\u001b[0;31m                     \u001b[0mresult\u001b[0m\u001b[0;34m[\u001b[0m\u001b[0;34m:\u001b[0m\u001b[0;34m,\u001b[0m\u001b[0mj\u001b[0m\u001b[0;34m+\u001b[0m\u001b[0;36m1\u001b[0m\u001b[0;34m]\u001b[0m \u001b[0;34m=\u001b[0m \u001b[0mx\u001b[0m\u001b[0;34m[\u001b[0m\u001b[0mmaximum\u001b[0m \u001b[0;34m-\u001b[0m \u001b[0mdelays\u001b[0m\u001b[0;34m[\u001b[0m\u001b[0mj\u001b[0m\u001b[0;34m]\u001b[0m\u001b[0;34m:\u001b[0m\u001b[0;34m-\u001b[0m\u001b[0mdelays\u001b[0m\u001b[0;34m[\u001b[0m\u001b[0mj\u001b[0m\u001b[0;34m]\u001b[0m\u001b[0;34m]\u001b[0m\u001b[0;34m\u001b[0m\u001b[0;34m\u001b[0m\u001b[0m\n\u001b[0m\u001b[1;32m     33\u001b[0m                 \u001b[0mresults\u001b[0m\u001b[0;34m[\u001b[0m\u001b[0mi\u001b[0m\u001b[0;34m]\u001b[0m \u001b[0;34m=\u001b[0m \u001b[0mresult\u001b[0m\u001b[0;34m\u001b[0m\u001b[0;34m\u001b[0m\u001b[0m\n\u001b[1;32m     34\u001b[0m                 \u001b[0mi\u001b[0m \u001b[0;34m+=\u001b[0m \u001b[0;36m1\u001b[0m\u001b[0;34m\u001b[0m\u001b[0;34m\u001b[0m\u001b[0m\n",
      "\u001b[0;31mValueError\u001b[0m: could not broadcast input array from shape (0) into shape (45)"
     ]
    }
   ],
   "source": [
    "x = np.arange(50)\n",
    "delay_embedding(x, max_delay=5)"
   ]
  },
  {
   "cell_type": "code",
   "execution_count": null,
   "metadata": {},
   "outputs": [],
   "source": []
  }
 ],
 "metadata": {
  "kernelspec": {
   "display_name": "Python 3",
   "language": "python",
   "name": "python3"
  },
  "language_info": {
   "codemirror_mode": {
    "name": "ipython",
    "version": 3
   },
   "file_extension": ".py",
   "mimetype": "text/x-python",
   "name": "python",
   "nbconvert_exporter": "python",
   "pygments_lexer": "ipython3",
   "version": "3.7.3"
  }
 },
 "nbformat": 4,
 "nbformat_minor": 2
}

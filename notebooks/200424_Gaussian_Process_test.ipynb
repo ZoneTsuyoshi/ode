{
 "cells": [
  {
   "cell_type": "markdown",
   "metadata": {},
   "source": [
    "# Implementation of Gaussian Process by GPyTorch"
   ]
  },
  {
   "cell_type": "markdown",
   "metadata": {},
   "source": [
    "## Exact GPs"
   ]
  },
  {
   "cell_type": "markdown",
   "metadata": {},
   "source": [
    "This is easy implementation of GP.\n",
    "This includes [Tutorial of GPyTorch ](https://gpytorch.readthedocs.io/en/latest/examples/01_Exact_GPs/Simple_GP_Regression.html)."
   ]
  },
  {
   "cell_type": "code",
   "execution_count": 1,
   "metadata": {},
   "outputs": [],
   "source": [
    "import math\n",
    "import torch\n",
    "import gpytorch\n",
    "from matplotlib import pyplot as plt\n",
    "\n",
    "%matplotlib inline\n",
    "%load_ext autoreload\n",
    "%autoreload 2"
   ]
  },
  {
   "cell_type": "code",
   "execution_count": null,
   "metadata": {},
   "outputs": [],
   "source": []
  },
  {
   "cell_type": "markdown",
   "metadata": {},
   "source": [
    "### Generatin of Data and Model"
   ]
  },
  {
   "cell_type": "code",
   "execution_count": 2,
   "metadata": {},
   "outputs": [],
   "source": [
    "# Training data is 100 points in [0,1] inclusive regularly spaced\n",
    "train_x = torch.linspace(0, 1, 100)\n",
    "# True function is sin(2*pi*x) with Gaussian noise\n",
    "train_y = torch.sin(train_x * (2 * math.pi)) + torch.randn(train_x.size()) * math.sqrt(0.04)"
   ]
  },
  {
   "cell_type": "code",
   "execution_count": 3,
   "metadata": {},
   "outputs": [],
   "source": [
    "# We will use the simplest form of GP model, exact inference\n",
    "class ExactGPModel(gpytorch.models.ExactGP):\n",
    "    def __init__(self, train_x, train_y, likelihood):\n",
    "        super(ExactGPModel, self).__init__(train_x, train_y, likelihood)\n",
    "        self.mean_module = gpytorch.means.ConstantMean()\n",
    "        self.covar_module = gpytorch.kernels.ScaleKernel(gpytorch.kernels.RBFKernel())\n",
    "\n",
    "    def forward(self, x):\n",
    "        mean_x = self.mean_module(x)\n",
    "        covar_x = self.covar_module(x)\n",
    "        return gpytorch.distributions.MultivariateNormal(mean_x, covar_x)\n",
    "\n",
    "# initialize likelihood and model\n",
    "likelihood = gpytorch.likelihoods.GaussianLikelihood()\n",
    "model = ExactGPModel(train_x, train_y, likelihood)"
   ]
  },
  {
   "cell_type": "code",
   "execution_count": null,
   "metadata": {},
   "outputs": [],
   "source": []
  },
  {
   "cell_type": "markdown",
   "metadata": {},
   "source": [
    "### Training the Model"
   ]
  },
  {
   "cell_type": "code",
   "execution_count": 4,
   "metadata": {
    "scrolled": true
   },
   "outputs": [
    {
     "name": "stdout",
     "output_type": "stream",
     "text": [
      "Iter 1/50 - Loss: 0.936   lengthscale: 0.693   noise: 0.693\n",
      "Iter 2/50 - Loss: 0.905   lengthscale: 0.644   noise: 0.644\n",
      "Iter 3/50 - Loss: 0.871   lengthscale: 0.598   noise: 0.598\n",
      "Iter 4/50 - Loss: 0.834   lengthscale: 0.555   noise: 0.554\n",
      "Iter 5/50 - Loss: 0.792   lengthscale: 0.514   noise: 0.513\n",
      "Iter 6/50 - Loss: 0.745   lengthscale: 0.476   noise: 0.474\n",
      "Iter 7/50 - Loss: 0.695   lengthscale: 0.439   noise: 0.437\n",
      "Iter 8/50 - Loss: 0.643   lengthscale: 0.405   noise: 0.402\n",
      "Iter 9/50 - Loss: 0.593   lengthscale: 0.372   noise: 0.369\n",
      "Iter 10/50 - Loss: 0.548   lengthscale: 0.342   noise: 0.339\n",
      "Iter 11/50 - Loss: 0.507   lengthscale: 0.315   noise: 0.310\n",
      "Iter 12/50 - Loss: 0.469   lengthscale: 0.292   noise: 0.284\n",
      "Iter 13/50 - Loss: 0.433   lengthscale: 0.272   noise: 0.259\n",
      "Iter 14/50 - Loss: 0.399   lengthscale: 0.255   noise: 0.237\n",
      "Iter 15/50 - Loss: 0.365   lengthscale: 0.242   noise: 0.216\n",
      "Iter 16/50 - Loss: 0.332   lengthscale: 0.232   noise: 0.196\n",
      "Iter 17/50 - Loss: 0.300   lengthscale: 0.224   noise: 0.179\n",
      "Iter 18/50 - Loss: 0.267   lengthscale: 0.218   noise: 0.162\n",
      "Iter 19/50 - Loss: 0.235   lengthscale: 0.214   noise: 0.148\n",
      "Iter 20/50 - Loss: 0.204   lengthscale: 0.213   noise: 0.134\n",
      "Iter 21/50 - Loss: 0.173   lengthscale: 0.213   noise: 0.122\n",
      "Iter 22/50 - Loss: 0.143   lengthscale: 0.214   noise: 0.111\n",
      "Iter 23/50 - Loss: 0.114   lengthscale: 0.217   noise: 0.101\n",
      "Iter 24/50 - Loss: 0.087   lengthscale: 0.220   noise: 0.092\n",
      "Iter 25/50 - Loss: 0.061   lengthscale: 0.226   noise: 0.084\n",
      "Iter 26/50 - Loss: 0.038   lengthscale: 0.232   noise: 0.076\n",
      "Iter 27/50 - Loss: 0.017   lengthscale: 0.239   noise: 0.070\n",
      "Iter 28/50 - Loss: -0.001   lengthscale: 0.246   noise: 0.064\n",
      "Iter 29/50 - Loss: -0.017   lengthscale: 0.255   noise: 0.058\n",
      "Iter 30/50 - Loss: -0.029   lengthscale: 0.263   noise: 0.054\n",
      "Iter 31/50 - Loss: -0.037   lengthscale: 0.272   noise: 0.050\n",
      "Iter 32/50 - Loss: -0.043   lengthscale: 0.280   noise: 0.046\n",
      "Iter 33/50 - Loss: -0.046   lengthscale: 0.287   noise: 0.043\n",
      "Iter 34/50 - Loss: -0.046   lengthscale: 0.294   noise: 0.040\n",
      "Iter 35/50 - Loss: -0.044   lengthscale: 0.299   noise: 0.038\n",
      "Iter 36/50 - Loss: -0.040   lengthscale: 0.302   noise: 0.036\n",
      "Iter 37/50 - Loss: -0.036   lengthscale: 0.304   noise: 0.034\n",
      "Iter 38/50 - Loss: -0.033   lengthscale: 0.303   noise: 0.033\n",
      "Iter 39/50 - Loss: -0.030   lengthscale: 0.301   noise: 0.032\n",
      "Iter 40/50 - Loss: -0.027   lengthscale: 0.297   noise: 0.031\n",
      "Iter 41/50 - Loss: -0.026   lengthscale: 0.292   noise: 0.031\n",
      "Iter 42/50 - Loss: -0.025   lengthscale: 0.286   noise: 0.031\n",
      "Iter 43/50 - Loss: -0.025   lengthscale: 0.280   noise: 0.031\n",
      "Iter 44/50 - Loss: -0.026   lengthscale: 0.274   noise: 0.031\n",
      "Iter 45/50 - Loss: -0.028   lengthscale: 0.269   noise: 0.031\n",
      "Iter 46/50 - Loss: -0.030   lengthscale: 0.264   noise: 0.031\n",
      "Iter 47/50 - Loss: -0.032   lengthscale: 0.259   noise: 0.032\n",
      "Iter 48/50 - Loss: -0.035   lengthscale: 0.256   noise: 0.033\n",
      "Iter 49/50 - Loss: -0.037   lengthscale: 0.253   noise: 0.034\n",
      "Iter 50/50 - Loss: -0.040   lengthscale: 0.251   noise: 0.035\n"
     ]
    }
   ],
   "source": [
    "# this is for running the notebook in our testing framework\n",
    "import os\n",
    "smoke_test = ('CI' in os.environ)\n",
    "training_iter = 2 if smoke_test else 50\n",
    "\n",
    "\n",
    "# Find optimal model hyperparameters\n",
    "model.train()\n",
    "likelihood.train()\n",
    "\n",
    "# Use the adam optimizer\n",
    "optimizer = torch.optim.Adam([\n",
    "    {'params': model.parameters()},  # Includes GaussianLikelihood parameters\n",
    "], lr=0.1)\n",
    "\n",
    "# \"Loss\" for GPs - the marginal log likelihood\n",
    "mll = gpytorch.mlls.ExactMarginalLogLikelihood(likelihood, model)\n",
    "\n",
    "for i in range(training_iter):\n",
    "    # Zero gradients from previous iteration\n",
    "    optimizer.zero_grad()\n",
    "    # Output from model\n",
    "    output = model(train_x)\n",
    "    # Calc loss and backprop gradients\n",
    "    loss = -mll(output, train_y)\n",
    "    loss.backward()\n",
    "    print('Iter %d/%d - Loss: %.3f   lengthscale: %.3f   noise: %.3f' % (\n",
    "        i + 1, training_iter, loss.item(),\n",
    "        model.covar_module.base_kernel.lengthscale.item(),\n",
    "        model.likelihood.noise.item()\n",
    "    ))\n",
    "    optimizer.step()"
   ]
  },
  {
   "cell_type": "code",
   "execution_count": null,
   "metadata": {},
   "outputs": [],
   "source": []
  },
  {
   "cell_type": "markdown",
   "metadata": {},
   "source": [
    "### Prediction"
   ]
  },
  {
   "cell_type": "code",
   "execution_count": 5,
   "metadata": {},
   "outputs": [],
   "source": [
    "# Get into evaluation (predictive posterior) mode\n",
    "model.eval()\n",
    "likelihood.eval()\n",
    "\n",
    "# Test points are regularly spaced along [0,1]\n",
    "# Make predictions by feeding model through likelihood\n",
    "with torch.no_grad(), gpytorch.settings.fast_pred_var():\n",
    "    test_x = torch.linspace(0, 1, 51)\n",
    "    observed_pred = likelihood(model(test_x))"
   ]
  },
  {
   "cell_type": "code",
   "execution_count": 6,
   "metadata": {},
   "outputs": [
    {
     "data": {
      "image/png": "[encoded data removed]",
      "text/plain": [
       "<Figure size 288x216 with 1 Axes>"
      ]
     },
     "metadata": {
      "needs_background": "light"
     },
     "output_type": "display_data"
    }
   ],
   "source": [
    "with torch.no_grad():\n",
    "    # Initialize plot\n",
    "    f, ax = plt.subplots(1, 1, figsize=(4, 3))\n",
    "\n",
    "    # Get upper and lower confidence bounds\n",
    "    lower, upper = observed_pred.confidence_region()\n",
    "    # Plot training data as black stars\n",
    "    ax.plot(train_x.numpy(), train_y.numpy(), 'k*')\n",
    "    # Plot predictive means as blue line\n",
    "    ax.plot(test_x.numpy(), observed_pred.mean.numpy(), 'b')\n",
    "    # Shade between the lower and upper confidence bounds\n",
    "    ax.fill_between(test_x.numpy(), lower.numpy(), upper.numpy(), alpha=0.5)\n",
    "    ax.set_ylim([-3, 3])\n",
    "    ax.legend(['Observed Data', 'Mean', 'Confidence'])"
   ]
  },
  {
   "cell_type": "code",
   "execution_count": null,
   "metadata": {},
   "outputs": [],
   "source": []
  },
  {
   "cell_type": "code",
   "execution_count": null,
   "metadata": {},
   "outputs": [],
   "source": []
  },
  {
   "cell_type": "code",
   "execution_count": null,
   "metadata": {},
   "outputs": [],
   "source": []
  },
  {
   "cell_type": "markdown",
   "metadata": {},
   "source": [
    "## GP Regression with a Spectral Mixture Kernel Introduction"
   ]
  },
  {
   "cell_type": "markdown",
   "metadata": {},
   "source": [
    "https://gpytorch.readthedocs.io/en/latest/examples/01_Exact_GPs/Spectral_Mixture_GP_Regression.html"
   ]
  },
  {
   "cell_type": "code",
   "execution_count": 7,
   "metadata": {},
   "outputs": [
    {
     "name": "stdout",
     "output_type": "stream",
     "text": [
      "The autoreload extension is already loaded. To reload it, use:\n",
      "  %reload_ext autoreload\n"
     ]
    }
   ],
   "source": [
    "import math\n",
    "import torch\n",
    "import gpytorch\n",
    "from matplotlib import pyplot as plt\n",
    "\n",
    "%matplotlib inline\n",
    "%load_ext autoreload\n",
    "%autoreload 2"
   ]
  },
  {
   "cell_type": "code",
   "execution_count": 8,
   "metadata": {},
   "outputs": [],
   "source": [
    "train_x = torch.linspace(0, 1, 15)\n",
    "train_y = torch.sin(train_x * (2 * math.pi))"
   ]
  },
  {
   "cell_type": "code",
   "execution_count": 9,
   "metadata": {},
   "outputs": [],
   "source": [
    "class SpectralMixtureGPModel(gpytorch.models.ExactGP):\n",
    "    def __init__(self, train_x, train_y, likelihood):\n",
    "        super(SpectralMixtureGPModel, self).__init__(train_x, train_y, likelihood)\n",
    "        self.mean_module = gpytorch.means.ConstantMean()\n",
    "        self.covar_module = gpytorch.kernels.SpectralMixtureKernel(num_mixtures=4)\n",
    "        self.covar_module.initialize_from_data(train_x, train_y)\n",
    "\n",
    "    def forward(self,x):\n",
    "        mean_x = self.mean_module(x)\n",
    "        covar_x = self.covar_module(x)\n",
    "        return gpytorch.distributions.MultivariateNormal(mean_x, covar_x)\n",
    "\n",
    "\n",
    "likelihood = gpytorch.likelihoods.GaussianLikelihood()\n",
    "model = SpectralMixtureGPModel(train_x, train_y, likelihood)"
   ]
  },
  {
   "cell_type": "code",
   "execution_count": 10,
   "metadata": {
    "scrolled": true
   },
   "outputs": [
    {
     "name": "stdout",
     "output_type": "stream",
     "text": [
      "Iter 1/100 - Loss: 1.254\n",
      "Iter 2/100 - Loss: 1.225\n",
      "Iter 3/100 - Loss: 1.198\n",
      "Iter 4/100 - Loss: 1.168\n",
      "Iter 5/100 - Loss: 1.141\n",
      "Iter 6/100 - Loss: 1.114\n",
      "Iter 7/100 - Loss: 1.085\n",
      "Iter 8/100 - Loss: 1.057\n",
      "Iter 9/100 - Loss: 1.027\n",
      "Iter 10/100 - Loss: 0.995\n",
      "Iter 11/100 - Loss: 0.960\n",
      "Iter 12/100 - Loss: 0.923\n",
      "Iter 13/100 - Loss: 0.884\n",
      "Iter 14/100 - Loss: 0.843\n",
      "Iter 15/100 - Loss: 0.803\n",
      "Iter 16/100 - Loss: 0.761\n",
      "Iter 17/100 - Loss: 0.718\n",
      "Iter 18/100 - Loss: 0.673\n",
      "Iter 19/100 - Loss: 0.625\n",
      "Iter 20/100 - Loss: 0.575\n",
      "Iter 21/100 - Loss: 0.523\n",
      "Iter 22/100 - Loss: 0.470\n",
      "Iter 23/100 - Loss: 0.418\n",
      "Iter 24/100 - Loss: 0.368\n",
      "Iter 25/100 - Loss: 0.319\n",
      "Iter 26/100 - Loss: 0.272\n",
      "Iter 27/100 - Loss: 0.227\n",
      "Iter 28/100 - Loss: 0.184\n",
      "Iter 29/100 - Loss: 0.139\n",
      "Iter 30/100 - Loss: 0.091\n",
      "Iter 31/100 - Loss: 0.039\n",
      "Iter 32/100 - Loss: -0.017\n",
      "Iter 33/100 - Loss: -0.076\n",
      "Iter 34/100 - Loss: -0.135\n",
      "Iter 35/100 - Loss: -0.192\n",
      "Iter 36/100 - Loss: -0.247\n",
      "Iter 37/100 - Loss: -0.299\n",
      "Iter 38/100 - Loss: -0.351\n",
      "Iter 39/100 - Loss: -0.408\n",
      "Iter 40/100 - Loss: -0.472\n",
      "Iter 41/100 - Loss: -0.539\n",
      "Iter 42/100 - Loss: -0.603\n",
      "Iter 43/100 - Loss: -0.657\n",
      "Iter 44/100 - Loss: -0.707\n",
      "Iter 45/100 - Loss: -0.760\n",
      "Iter 46/100 - Loss: -0.826\n",
      "Iter 47/100 - Loss: -0.900\n",
      "Iter 48/100 - Loss: -0.955\n",
      "Iter 49/100 - Loss: -1.000\n",
      "Iter 50/100 - Loss: -1.045\n",
      "Iter 51/100 - Loss: -1.117\n",
      "Iter 52/100 - Loss: -1.196\n",
      "Iter 53/100 - Loss: -1.203\n",
      "Iter 54/100 - Loss: -1.269\n",
      "Iter 55/100 - Loss: -1.344\n",
      "Iter 56/100 - Loss: -1.363\n",
      "Iter 57/100 - Loss: -1.439\n",
      "Iter 58/100 - Loss: -1.477\n",
      "Iter 59/100 - Loss: -1.527\n",
      "Iter 60/100 - Loss: -1.600\n",
      "Iter 61/100 - Loss: -1.617\n",
      "Iter 62/100 - Loss: -1.682\n",
      "Iter 63/100 - Loss: -1.739\n",
      "Iter 64/100 - Loss: -1.761\n",
      "Iter 65/100 - Loss: -1.798\n",
      "Iter 66/100 - Loss: -1.872\n",
      "Iter 67/100 - Loss: -1.926\n",
      "Iter 68/100 - Loss: -1.903\n",
      "Iter 69/100 - Loss: -1.886\n",
      "Iter 70/100 - Loss: -1.943\n",
      "Iter 71/100 - Loss: -2.076\n",
      "Iter 72/100 - Loss: -2.105\n",
      "Iter 73/100 - Loss: -1.984\n",
      "Iter 74/100 - Loss: -2.055\n",
      "Iter 75/100 - Loss: -2.191\n",
      "Iter 76/100 - Loss: -2.166\n",
      "Iter 77/100 - Loss: -2.209\n",
      "Iter 78/100 - Loss: -2.241\n",
      "Iter 79/100 - Loss: -2.269\n",
      "Iter 80/100 - Loss: -2.293\n",
      "Iter 81/100 - Loss: -2.353\n",
      "Iter 82/100 - Loss: -2.245\n",
      "Iter 83/100 - Loss: -2.296\n",
      "Iter 84/100 - Loss: -2.252\n",
      "Iter 85/100 - Loss: -2.214\n",
      "Iter 86/100 - Loss: -2.197\n",
      "Iter 87/100 - Loss: -2.213\n",
      "Iter 88/100 - Loss: -2.243\n",
      "Iter 89/100 - Loss: -2.276\n",
      "Iter 90/100 - Loss: -2.317\n",
      "Iter 91/100 - Loss: -2.364\n",
      "Iter 92/100 - Loss: -2.398\n",
      "Iter 93/100 - Loss: -1.977\n",
      "Iter 94/100 - Loss: -1.587\n",
      "Iter 95/100 - Loss: -2.336\n",
      "Iter 96/100 - Loss: -2.132\n",
      "Iter 97/100 - Loss: -2.050\n",
      "Iter 98/100 - Loss: -2.188\n",
      "Iter 99/100 - Loss: -2.273\n",
      "Iter 100/100 - Loss: -2.283\n"
     ]
    }
   ],
   "source": [
    "# Find optimal model hyperparameters\n",
    "model.train()\n",
    "likelihood.train()\n",
    "\n",
    "# Use the adam optimizer\n",
    "optimizer = torch.optim.Adam(model.parameters(), lr=0.1)\n",
    "\n",
    "# \"Loss\" for GPs - the marginal log likelihood\n",
    "mll = gpytorch.mlls.ExactMarginalLogLikelihood(likelihood, model)\n",
    "\n",
    "training_iter = 100\n",
    "for i in range(training_iter):\n",
    "    optimizer.zero_grad()\n",
    "    output = model(train_x)\n",
    "    loss = -mll(output, train_y)\n",
    "    loss.backward()\n",
    "    print('Iter %d/%d - Loss: %.3f' % (i + 1, training_iter, loss.item()))\n",
    "    optimizer.step()"
   ]
  },
  {
   "cell_type": "code",
   "execution_count": 11,
   "metadata": {},
   "outputs": [
    {
     "data": {
      "image/png": "[encoded data removed]",
      "text/plain": [
       "<Figure size 288x216 with 1 Axes>"
      ]
     },
     "metadata": {
      "needs_background": "light"
     },
     "output_type": "display_data"
    }
   ],
   "source": [
    "# Test points every 0.1 between 0 and 5\n",
    "test_x = torch.linspace(0, 5, 51)\n",
    "\n",
    "# Get into evaluation (predictive posterior) mode\n",
    "model.eval()\n",
    "likelihood.eval()\n",
    "\n",
    "# The gpytorch.settings.fast_pred_var flag activates LOVE (for fast variances)\n",
    "# See https://arxiv.org/abs/1803.06058\n",
    "with torch.no_grad(), gpytorch.settings.fast_pred_var():\n",
    "    # Make predictions\n",
    "    observed_pred = likelihood(model(test_x))\n",
    "\n",
    "    # Initialize plot\n",
    "    f, ax = plt.subplots(1, 1, figsize=(4, 3))\n",
    "\n",
    "    # Get upper and lower confidence bounds\n",
    "    lower, upper = observed_pred.confidence_region()\n",
    "    # Plot training data as black stars\n",
    "    ax.plot(train_x.numpy(), train_y.numpy(), 'k*')\n",
    "    # Plot predictive means as blue line\n",
    "    ax.plot(test_x.numpy(), observed_pred.mean.numpy(), 'b')\n",
    "    # Shade between the lower and upper confidence bounds\n",
    "    ax.fill_between(test_x.numpy(), lower.numpy(), upper.numpy(), alpha=0.5)\n",
    "    ax.set_ylim([-3, 3])\n",
    "    ax.legend(['Observed Data', 'Mean', 'Confidence'])"
   ]
  },
  {
   "cell_type": "code",
   "execution_count": null,
   "metadata": {},
   "outputs": [],
   "source": []
  }
 ],
 "metadata": {
  "kernelspec": {
   "display_name": "Python 3",
   "language": "python",
   "name": "python3"
  },
  "language_info": {
   "codemirror_mode": {
    "name": "ipython",
    "version": 3
   },
   "file_extension": ".py",
   "mimetype": "text/x-python",
   "name": "python",
   "nbconvert_exporter": "python",
   "pygments_lexer": "ipython3",
   "version": "3.8.2"
  }
 },
 "nbformat": 4,
 "nbformat_minor": 4
}
